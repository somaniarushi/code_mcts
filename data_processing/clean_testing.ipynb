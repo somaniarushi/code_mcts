{
 "cells": [
  {
   "cell_type": "markdown",
   "metadata": {},
   "source": [
    "Connected to cloudspace (Python 3.10.10)"
   ]
  },
  {
   "cell_type": "code",
   "execution_count": 1,
   "id": "d38a9ab6-d13b-42ac-ba81-9cb7443dfae7",
   "metadata": {},
   "outputs": [],
   "source": [
    "import json\n",
    "from typing import Any, Dict\n",
    "\n",
    "def clean_completion(completion: str) -> str:\n",
    "    # Get the code between ```python or ``` and ending at ```\n",
    "    # Find the first occurence of ``` and last occurence of ```\n",
    "    opening_backtick = completion.find(\"```\")\n",
    "    closing_backtick = completion.rfind(\"```\")\n",
    "\n",
    "    if opening_backtick == -1 or closing_backtick == -1:\n",
    "        return completion\n",
    "    else:\n",
    "        code = completion[opening_backtick + 3:closing_backtick]\n",
    "\n",
    "    # If the code has a section that looks like if __name__ == \"__main__\":, remove it and everything after it\n",
    "    main_start = code.find(\"if __name__ == '__main__':\")\n",
    "    if main_start != -1:\n",
    "        code = code[:main_start]\n",
    "    main_start = code.find('if __name__ == \"__main__\":')\n",
    "    if main_start != -1:\n",
    "        code = code[:main_start]\n",
    "    return code.strip()\n",
    "\n",
    "def clean_data(data_point: Dict[str, Any]) -> Dict[str, Any]:\n",
    "    completion = data_point[\"completion\"]\n",
    "    code = clean_completion(completion)\n",
    "    data_point[\"completion\"] = code\n",
    "    return data_point\n",
    "\n",
    "def clean_jsonl(raw_jsonl_path: str, cleaned_json_path: str) -> None:\n",
    "    # Load the raw JSONL file\n",
    "    with open(raw_jsonl_path, \"r\") as f:\n",
    "        for line in f:\n",
    "            data = json.loads(line)\n",
    "            # Clean the data\n",
    "            cleaned_data = clean_data(data)\n",
    "            # Save the cleaned data to a new JSONL file\n",
    "            with open(cleaned_json_path, \"a\") as f:\n",
    "                json.dump(cleaned_data, f)\n",
    "                f.write(\"\\n\")"
   ]
  },
  {
   "cell_type": "code",
   "execution_count": 2,
   "metadata": {},
   "outputs": [
    {
     "data": {
      "text/plain": [
       "'\\n    return [paren_string[0:2], paren_string[3:7], paren_string[8:13]]\\n\\n\\ndef main():\\n    print(separate_paren_groups(\\'( ) (( )) (( )( ))\\'))\\n\\n\\nif __name__ == \"__main__\":\\n    main()\\n'"
      ]
     },
     "execution_count": 2,
     "metadata": {},
     "output_type": "execute_result"
    }
   ],
   "source": [
    "clean_completion(\"\"\"\n",
    "    return [paren_string[0:2], paren_string[3:7], paren_string[8:13]]\n",
    "\n",
    "\n",
    "def main():\n",
    "    print(separate_paren_groups('( ) (( )) (( )( ))'))\n",
    "\n",
    "\n",
    "if __name__ == \"__main__\":\n",
    "    main()\n",
    "\"\"\")"
   ]
  }
 ],
 "metadata": {
  "kernelspec": {
   "display_name": "cloudspace",
   "language": "python",
   "name": "python3"
  },
  "language_info": {
   "codemirror_mode": {
    "name": "ipython",
    "version": 3
   },
   "file_extension": ".py",
   "mimetype": "text/x-python",
   "name": "python",
   "nbconvert_exporter": "python",
   "pygments_lexer": "ipython3",
   "version": "3.10.10"
  }
 },
 "nbformat": 4,
 "nbformat_minor": 2
}
